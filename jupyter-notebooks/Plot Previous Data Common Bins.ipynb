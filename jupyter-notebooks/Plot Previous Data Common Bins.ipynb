{
 "cells": [
  {
   "cell_type": "markdown",
   "id": "sapphire-provincial",
   "metadata": {},
   "source": [
    "# Load previous data"
   ]
  },
  {
   "cell_type": "code",
   "execution_count": 415,
   "id": "twenty-penalty",
   "metadata": {},
   "outputs": [
    {
     "name": "stdout",
     "output_type": "stream",
     "text": [
      "Num results: (240, 1)\n"
     ]
    },
    {
     "data": {
      "text/html": [
       "<div>\n",
       "<style scoped>\n",
       "    .dataframe tbody tr th:only-of-type {\n",
       "        vertical-align: middle;\n",
       "    }\n",
       "\n",
       "    .dataframe tbody tr th {\n",
       "        vertical-align: top;\n",
       "    }\n",
       "\n",
       "    .dataframe thead th {\n",
       "        text-align: right;\n",
       "    }\n",
       "</style>\n",
       "<table border=\"1\" class=\"dataframe\">\n",
       "  <thead>\n",
       "    <tr style=\"text-align: right;\">\n",
       "      <th></th>\n",
       "      <th></th>\n",
       "      <th></th>\n",
       "      <th>0</th>\n",
       "    </tr>\n",
       "    <tr>\n",
       "      <th>recommend</th>\n",
       "      <th>predicted</th>\n",
       "      <th></th>\n",
       "      <th></th>\n",
       "    </tr>\n",
       "  </thead>\n",
       "  <tbody>\n",
       "    <tr>\n",
       "      <th rowspan=\"5\" valign=\"top\">False</th>\n",
       "      <th rowspan=\"5\" valign=\"top\">False</th>\n",
       "      <th>[3.8, 3.97333)</th>\n",
       "      <td>0</td>\n",
       "    </tr>\n",
       "    <tr>\n",
       "      <th>[3.97333, 4.14667)</th>\n",
       "      <td>0</td>\n",
       "    </tr>\n",
       "    <tr>\n",
       "      <th>[4.14667, 4.32)</th>\n",
       "      <td>0</td>\n",
       "    </tr>\n",
       "    <tr>\n",
       "      <th>[4.32, 4.49333)</th>\n",
       "      <td>0</td>\n",
       "    </tr>\n",
       "    <tr>\n",
       "      <th>[4.49333, 4.66667)</th>\n",
       "      <td>1</td>\n",
       "    </tr>\n",
       "    <tr>\n",
       "      <th>...</th>\n",
       "      <th>...</th>\n",
       "      <th>...</th>\n",
       "      <td>...</td>\n",
       "    </tr>\n",
       "    <tr>\n",
       "      <th rowspan=\"5\" valign=\"top\">True</th>\n",
       "      <th rowspan=\"5\" valign=\"top\">True</th>\n",
       "      <th>[13.3333, 13.5067)</th>\n",
       "      <td>0</td>\n",
       "    </tr>\n",
       "    <tr>\n",
       "      <th>[13.5067, 13.68)</th>\n",
       "      <td>0</td>\n",
       "    </tr>\n",
       "    <tr>\n",
       "      <th>[13.68, 13.8533)</th>\n",
       "      <td>0</td>\n",
       "    </tr>\n",
       "    <tr>\n",
       "      <th>[13.8533, 14.0267)</th>\n",
       "      <td>0</td>\n",
       "    </tr>\n",
       "    <tr>\n",
       "      <th>[14.0267, 14.2]</th>\n",
       "      <td>0</td>\n",
       "    </tr>\n",
       "  </tbody>\n",
       "</table>\n",
       "<p>240 rows × 1 columns</p>\n",
       "</div>"
      ],
      "text/plain": [
       "                                        0\n",
       "recommend predicted                      \n",
       "False     False     [3.8, 3.97333)      0\n",
       "                    [3.97333, 4.14667)  0\n",
       "                    [4.14667, 4.32)     0\n",
       "                    [4.32, 4.49333)     0\n",
       "                    [4.49333, 4.66667)  1\n",
       "...                                    ..\n",
       "True      True      [13.3333, 13.5067)  0\n",
       "                    [13.5067, 13.68)    0\n",
       "                    [13.68, 13.8533)    0\n",
       "                    [13.8533, 14.0267)  0\n",
       "                    [14.0267, 14.2]     0\n",
       "\n",
       "[240 rows x 1 columns]"
      ]
     },
     "execution_count": 415,
     "metadata": {},
     "output_type": "execute_result"
    }
   ],
   "source": [
    "import pandas as pd\n",
    "#previous_file = '/Users/gleonard/dev/PRESC/presc_report/ConditionalDistributionResult_results_a.csv'\n",
    "previous_file = '/Users/gleonard/dev/PRESC/presc_report/ConditionalDistributionResult_results_fixed acidity.csv'\n",
    "previous = pd.read_csv(previous_file, index_col=[0, 1, 2])\n",
    "print(f'Num results: {previous.shape}')\n",
    "previous\n"
   ]
  },
  {
   "cell_type": "markdown",
   "id": "desirable-pharmaceutical",
   "metadata": {},
   "source": [
    " # Load previous bins"
   ]
  },
  {
   "cell_type": "code",
   "execution_count": 416,
   "id": "accomplished-paris",
   "metadata": {},
   "outputs": [
    {
     "data": {
      "text/html": [
       "<div>\n",
       "<style scoped>\n",
       "    .dataframe tbody tr th:only-of-type {\n",
       "        vertical-align: middle;\n",
       "    }\n",
       "\n",
       "    .dataframe tbody tr th {\n",
       "        vertical-align: top;\n",
       "    }\n",
       "\n",
       "    .dataframe thead th {\n",
       "        text-align: right;\n",
       "    }\n",
       "</style>\n",
       "<table border=\"1\" class=\"dataframe\">\n",
       "  <thead>\n",
       "    <tr style=\"text-align: right;\">\n",
       "      <th></th>\n",
       "      <th>1</th>\n",
       "    </tr>\n",
       "    <tr>\n",
       "      <th>0</th>\n",
       "      <th></th>\n",
       "    </tr>\n",
       "  </thead>\n",
       "  <tbody>\n",
       "    <tr>\n",
       "      <th>0</th>\n",
       "      <td>3.800000</td>\n",
       "    </tr>\n",
       "    <tr>\n",
       "      <th>1</th>\n",
       "      <td>3.973333</td>\n",
       "    </tr>\n",
       "    <tr>\n",
       "      <th>2</th>\n",
       "      <td>4.146667</td>\n",
       "    </tr>\n",
       "    <tr>\n",
       "      <th>3</th>\n",
       "      <td>4.320000</td>\n",
       "    </tr>\n",
       "    <tr>\n",
       "      <th>4</th>\n",
       "      <td>4.493333</td>\n",
       "    </tr>\n",
       "    <tr>\n",
       "      <th>...</th>\n",
       "      <td>...</td>\n",
       "    </tr>\n",
       "    <tr>\n",
       "      <th>56</th>\n",
       "      <td>13.506667</td>\n",
       "    </tr>\n",
       "    <tr>\n",
       "      <th>57</th>\n",
       "      <td>13.680000</td>\n",
       "    </tr>\n",
       "    <tr>\n",
       "      <th>58</th>\n",
       "      <td>13.853333</td>\n",
       "    </tr>\n",
       "    <tr>\n",
       "      <th>59</th>\n",
       "      <td>14.026667</td>\n",
       "    </tr>\n",
       "    <tr>\n",
       "      <th>60</th>\n",
       "      <td>14.200000</td>\n",
       "    </tr>\n",
       "  </tbody>\n",
       "</table>\n",
       "<p>61 rows × 1 columns</p>\n",
       "</div>"
      ],
      "text/plain": [
       "            1\n",
       "0            \n",
       "0    3.800000\n",
       "1    3.973333\n",
       "2    4.146667\n",
       "3    4.320000\n",
       "4    4.493333\n",
       "..        ...\n",
       "56  13.506667\n",
       "57  13.680000\n",
       "58  13.853333\n",
       "59  14.026667\n",
       "60  14.200000\n",
       "\n",
       "[61 rows x 1 columns]"
      ]
     },
     "execution_count": 416,
     "metadata": {},
     "output_type": "execute_result"
    }
   ],
   "source": [
    "#bin_file = '/Users/gleonard/dev/PRESC/presc_report/ConditionalDistributionResult_bins_a.csv'            \n",
    "bin_file = '/Users/gleonard/dev/PRESC/presc_report/ConditionalDistributionResult_bins_fixed acidity.csv'            \n",
    "bins = pd.read_csv(bin_file, index_col=[0], header=None)\n",
    "bins"
   ]
  },
  {
   "cell_type": "markdown",
   "id": "attempted-necklace",
   "metadata": {},
   "source": [
    "# TODO need to test categorical data"
   ]
  },
  {
   "cell_type": "markdown",
   "id": "starting-following",
   "metadata": {},
   "source": [
    "# Plot previous data"
   ]
  },
  {
   "cell_type": "code",
   "execution_count": 417,
   "id": "romance-charger",
   "metadata": {},
   "outputs": [
    {
     "data": {
      "image/png": "[encoded data removed]",
      "text/plain": [
       "<Figure size 432x288 with 1 Axes>"
      ]
     },
     "metadata": {
      "needs_background": "light"
     },
     "output_type": "display_data"
    },
    {
     "data": {
      "image/png": "[encoded data removed]",
      "text/plain": [
       "<Figure size 432x288 with 1 Axes>"
      ]
     },
     "metadata": {
      "needs_background": "light"
     },
     "output_type": "display_data"
    },
    {
     "data": {
      "image/png": "[encoded data removed]",
      "text/plain": [
       "<Figure size 432x288 with 1 Axes>"
      ]
     },
     "metadata": {
      "needs_background": "light"
     },
     "output_type": "display_data"
    },
    {
     "data": {
      "image/png": "[encoded data removed]",
      "text/plain": [
       "<Figure size 432x288 with 1 Axes>"
      ]
     },
     "metadata": {
      "needs_background": "light"
     },
     "output_type": "display_data"
    }
   ],
   "source": [
    "from pandas import MultiIndex\n",
    "import matplotlib.pyplot as plt\n",
    "\n",
    "xlab = 'Column1'\n",
    "\n",
    "for y_true, y_pred in previous.index.droplevel(-1).unique():   \n",
    "    counts = previous.loc[(y_true, y_pred)]\n",
    "    b = bins.values\n",
    "\n",
    "    plt.hist(\n",
    "        (b[:-1] + b[1:]) / 2,\n",
    "        bins=len(counts.values),\n",
    "        weights=counts.values,\n",
    "        range=(b.min(), b.max()),\n",
    "    )\n",
    "    plt.xlabel(xlab)\n",
    "    plt.ylabel(\"Frequency\")\n",
    "    plt.title(f\"Group: {y_true}_predicted_as_{y_pred}\")\n",
    "\n",
    "    plt.show(block=False)"
   ]
  },
  {
   "cell_type": "markdown",
   "id": "likely-causing",
   "metadata": {},
   "source": [
    "# Load new data"
   ]
  },
  {
   "cell_type": "code",
   "execution_count": 418,
   "id": "variable-whale",
   "metadata": {},
   "outputs": [
    {
     "name": "stdout",
     "output_type": "stream",
     "text": [
      "Num results: (240, 1)\n"
     ]
    },
    {
     "data": {
      "text/html": [
       "<div>\n",
       "<style scoped>\n",
       "    .dataframe tbody tr th:only-of-type {\n",
       "        vertical-align: middle;\n",
       "    }\n",
       "\n",
       "    .dataframe tbody tr th {\n",
       "        vertical-align: top;\n",
       "    }\n",
       "\n",
       "    .dataframe thead th {\n",
       "        text-align: right;\n",
       "    }\n",
       "</style>\n",
       "<table border=\"1\" class=\"dataframe\">\n",
       "  <thead>\n",
       "    <tr style=\"text-align: right;\">\n",
       "      <th></th>\n",
       "      <th></th>\n",
       "      <th></th>\n",
       "      <th>0</th>\n",
       "    </tr>\n",
       "    <tr>\n",
       "      <th>recommend</th>\n",
       "      <th>predicted</th>\n",
       "      <th></th>\n",
       "      <th></th>\n",
       "    </tr>\n",
       "  </thead>\n",
       "  <tbody>\n",
       "    <tr>\n",
       "      <th rowspan=\"5\" valign=\"top\">False</th>\n",
       "      <th rowspan=\"5\" valign=\"top\">False</th>\n",
       "      <th>[3.8, 3.97333)</th>\n",
       "      <td>0</td>\n",
       "    </tr>\n",
       "    <tr>\n",
       "      <th>[3.97333, 4.14667)</th>\n",
       "      <td>0</td>\n",
       "    </tr>\n",
       "    <tr>\n",
       "      <th>[4.14667, 4.32)</th>\n",
       "      <td>0</td>\n",
       "    </tr>\n",
       "    <tr>\n",
       "      <th>[4.32, 4.49333)</th>\n",
       "      <td>0</td>\n",
       "    </tr>\n",
       "    <tr>\n",
       "      <th>[4.49333, 4.66667)</th>\n",
       "      <td>1</td>\n",
       "    </tr>\n",
       "    <tr>\n",
       "      <th>...</th>\n",
       "      <th>...</th>\n",
       "      <th>...</th>\n",
       "      <td>...</td>\n",
       "    </tr>\n",
       "    <tr>\n",
       "      <th rowspan=\"5\" valign=\"top\">True</th>\n",
       "      <th rowspan=\"5\" valign=\"top\">True</th>\n",
       "      <th>[13.3333, 13.5067)</th>\n",
       "      <td>0</td>\n",
       "    </tr>\n",
       "    <tr>\n",
       "      <th>[13.5067, 13.68)</th>\n",
       "      <td>0</td>\n",
       "    </tr>\n",
       "    <tr>\n",
       "      <th>[13.68, 13.8533)</th>\n",
       "      <td>0</td>\n",
       "    </tr>\n",
       "    <tr>\n",
       "      <th>[13.8533, 14.0267)</th>\n",
       "      <td>0</td>\n",
       "    </tr>\n",
       "    <tr>\n",
       "      <th>[14.0267, 14.2]</th>\n",
       "      <td>0</td>\n",
       "    </tr>\n",
       "  </tbody>\n",
       "</table>\n",
       "<p>240 rows × 1 columns</p>\n",
       "</div>"
      ],
      "text/plain": [
       "                                        0\n",
       "recommend predicted                      \n",
       "False     False     [3.8, 3.97333)      0\n",
       "                    [3.97333, 4.14667)  0\n",
       "                    [4.14667, 4.32)     0\n",
       "                    [4.32, 4.49333)     0\n",
       "                    [4.49333, 4.66667)  1\n",
       "...                                    ..\n",
       "True      True      [13.3333, 13.5067)  0\n",
       "                    [13.5067, 13.68)    0\n",
       "                    [13.68, 13.8533)    0\n",
       "                    [13.8533, 14.0267)  0\n",
       "                    [14.0267, 14.2]     0\n",
       "\n",
       "[240 rows x 1 columns]"
      ]
     },
     "execution_count": 418,
     "metadata": {},
     "output_type": "execute_result"
    }
   ],
   "source": [
    "import pandas as pd\n",
    "#previous_file = '/Users/gleonard/dev/PRESC/presc_report/ConditionalDistributionResult_results_a.csv'\n",
    "new_file = '/Users/gleonard/dev/PRESC/presc_report/ConditionalDistributionResult_results_fixed acidity_new.csv'\n",
    "new = pd.read_csv(new_file, index_col=[0, 1, 2])\n",
    "print(f'Num results: {new.shape}')\n",
    "new"
   ]
  },
  {
   "cell_type": "markdown",
   "id": "living-helping",
   "metadata": {},
   "source": [
    "# Load new bins"
   ]
  },
  {
   "cell_type": "code",
   "execution_count": 419,
   "id": "raised-worse",
   "metadata": {},
   "outputs": [
    {
     "data": {
      "text/html": [
       "<div>\n",
       "<style scoped>\n",
       "    .dataframe tbody tr th:only-of-type {\n",
       "        vertical-align: middle;\n",
       "    }\n",
       "\n",
       "    .dataframe tbody tr th {\n",
       "        vertical-align: top;\n",
       "    }\n",
       "\n",
       "    .dataframe thead th {\n",
       "        text-align: right;\n",
       "    }\n",
       "</style>\n",
       "<table border=\"1\" class=\"dataframe\">\n",
       "  <thead>\n",
       "    <tr style=\"text-align: right;\">\n",
       "      <th></th>\n",
       "      <th>1</th>\n",
       "    </tr>\n",
       "    <tr>\n",
       "      <th>0</th>\n",
       "      <th></th>\n",
       "    </tr>\n",
       "  </thead>\n",
       "  <tbody>\n",
       "    <tr>\n",
       "      <th>0</th>\n",
       "      <td>3.800000</td>\n",
       "    </tr>\n",
       "    <tr>\n",
       "      <th>1</th>\n",
       "      <td>3.973333</td>\n",
       "    </tr>\n",
       "    <tr>\n",
       "      <th>2</th>\n",
       "      <td>4.146667</td>\n",
       "    </tr>\n",
       "    <tr>\n",
       "      <th>3</th>\n",
       "      <td>4.320000</td>\n",
       "    </tr>\n",
       "    <tr>\n",
       "      <th>4</th>\n",
       "      <td>4.493333</td>\n",
       "    </tr>\n",
       "    <tr>\n",
       "      <th>...</th>\n",
       "      <td>...</td>\n",
       "    </tr>\n",
       "    <tr>\n",
       "      <th>56</th>\n",
       "      <td>13.506667</td>\n",
       "    </tr>\n",
       "    <tr>\n",
       "      <th>57</th>\n",
       "      <td>13.680000</td>\n",
       "    </tr>\n",
       "    <tr>\n",
       "      <th>58</th>\n",
       "      <td>13.853333</td>\n",
       "    </tr>\n",
       "    <tr>\n",
       "      <th>59</th>\n",
       "      <td>14.026667</td>\n",
       "    </tr>\n",
       "    <tr>\n",
       "      <th>60</th>\n",
       "      <td>14.200000</td>\n",
       "    </tr>\n",
       "  </tbody>\n",
       "</table>\n",
       "<p>61 rows × 1 columns</p>\n",
       "</div>"
      ],
      "text/plain": [
       "            1\n",
       "0            \n",
       "0    3.800000\n",
       "1    3.973333\n",
       "2    4.146667\n",
       "3    4.320000\n",
       "4    4.493333\n",
       "..        ...\n",
       "56  13.506667\n",
       "57  13.680000\n",
       "58  13.853333\n",
       "59  14.026667\n",
       "60  14.200000\n",
       "\n",
       "[61 rows x 1 columns]"
      ]
     },
     "execution_count": 419,
     "metadata": {},
     "output_type": "execute_result"
    }
   ],
   "source": [
    "#bin_file = '/Users/gleonard/dev/PRESC/presc_report/ConditionalDistributionResult_bins_a.csv'            \n",
    "new_bin_file = '/Users/gleonard/dev/PRESC/presc_report/ConditionalDistributionResult_bins_fixed acidity_new.csv'            \n",
    "new_bins = pd.read_csv(bin_file, index_col=[0], header=None)\n",
    "new_bins"
   ]
  },
  {
   "cell_type": "markdown",
   "id": "grave-bahamas",
   "metadata": {},
   "source": [
    "# Plot new data"
   ]
  },
  {
   "cell_type": "code",
   "execution_count": 420,
   "id": "brief-israeli",
   "metadata": {},
   "outputs": [
    {
     "data": {
      "image/png": "[encoded data removed]",
      "text/plain": [
       "<Figure size 432x288 with 1 Axes>"
      ]
     },
     "metadata": {
      "needs_background": "light"
     },
     "output_type": "display_data"
    },
    {
     "data": {
      "image/png": "[encoded data removed]",
      "text/plain": [
       "<Figure size 432x288 with 1 Axes>"
      ]
     },
     "metadata": {
      "needs_background": "light"
     },
     "output_type": "display_data"
    },
    {
     "data": {
      "image/png": "[encoded data removed]",
      "text/plain": [
       "<Figure size 432x288 with 1 Axes>"
      ]
     },
     "metadata": {
      "needs_background": "light"
     },
     "output_type": "display_data"
    },
    {
     "data": {
      "image/png": "[encoded data removed]",
      "text/plain": [
       "<Figure size 432x288 with 1 Axes>"
      ]
     },
     "metadata": {
      "needs_background": "light"
     },
     "output_type": "display_data"
    }
   ],
   "source": [
    "from pandas import MultiIndex\n",
    "import matplotlib.pyplot as plt\n",
    "\n",
    "xlab = 'Column1'\n",
    "\n",
    "for y_true, y_pred in new.index.droplevel(-1).unique():   \n",
    "    counts = new.loc[(y_true, y_pred)]\n",
    "    b = new_bins.values\n",
    "\n",
    "    plt.hist(\n",
    "        (b[:-1] + b[1:]) / 2,\n",
    "        bins=len(counts.values),\n",
    "        weights=counts.values,\n",
    "        range=(b.min(), b.max()),\n",
    "    )\n",
    "    plt.xlabel(xlab)\n",
    "    plt.ylabel(\"Frequency\")\n",
    "    plt.title(f\"Group: {y_true}_predicted_as_{y_pred}\")\n",
    "\n",
    "    plt.show(block=False)"
   ]
  },
  {
   "cell_type": "markdown",
   "id": "absent-special",
   "metadata": {},
   "source": [
    "# Plot previous and new overlaid"
   ]
  },
  {
   "cell_type": "code",
   "execution_count": 421,
   "id": "happy-cartridge",
   "metadata": {},
   "outputs": [
    {
     "data": {
      "image/png": "[encoded data removed]",
      "text/plain": [
       "<Figure size 432x288 with 1 Axes>"
      ]
     },
     "metadata": {
      "needs_background": "light"
     },
     "output_type": "display_data"
    },
    {
     "data": {
      "image/png": "[encoded data removed]",
      "text/plain": [
       "<Figure size 432x288 with 1 Axes>"
      ]
     },
     "metadata": {
      "needs_background": "light"
     },
     "output_type": "display_data"
    },
    {
     "data": {
      "image/png": "[encoded data removed]",
      "text/plain": [
       "<Figure size 432x288 with 1 Axes>"
      ]
     },
     "metadata": {
      "needs_background": "light"
     },
     "output_type": "display_data"
    },
    {
     "data": {
      "image/png": "[encoded data removed]",
      "text/plain": [
       "<Figure size 432x288 with 1 Axes>"
      ]
     },
     "metadata": {
      "needs_background": "light"
     },
     "output_type": "display_data"
    }
   ],
   "source": [
    "for y_true, y_pred in new.index.droplevel(-1).unique():   \n",
    "    new_counts = new.loc[(y_true, y_pred)]\n",
    "    new_b = new_bins.values\n",
    "\n",
    "    prev_counts = previous.loc[(y_true, y_pred)]\n",
    "    b = bins.values\n",
    "    \n",
    "    plt.hist(\n",
    "        (new_b[:-1] + new_b[1:]) / 2,\n",
    "        bins=len(new_counts.values),\n",
    "        weights=new_counts.values,\n",
    "        range=(new_b.min(), new_b.max()),\n",
    "        alpha=0.5,\n",
    "        label='new'\n",
    "    )\n",
    "          \n",
    "    plt.hist(\n",
    "        (b[:-1] + b[1:]) / 2,\n",
    "        bins=len(prev_counts.values),\n",
    "        weights=prev_counts.values,\n",
    "        range=(b.min(), b.max()),\n",
    "        alpha=0.5,\n",
    "        label='previous'\n",
    "    )\n",
    "    \n",
    "    plt.xlabel(xlab)\n",
    "    plt.ylabel(\"Frequency\")\n",
    "    plt.title(f\"Group: {y_true}_predicted_as_{y_pred}\")\n",
    "    plt.legend(loc='upper right')\n",
    "\n",
    "    plt.show(block=False)\n",
    "    "
   ]
  },
  {
   "cell_type": "code",
   "execution_count": null,
   "id": "stone-aruba",
   "metadata": {},
   "outputs": [],
   "source": []
  },
  {
   "cell_type": "code",
   "execution_count": null,
   "id": "italian-breakdown",
   "metadata": {},
   "outputs": [],
   "source": []
  }
 ],
 "metadata": {
  "kernelspec": {
   "display_name": "Python 3",
   "language": "python",
   "name": "python3"
  },
  "language_info": {
   "codemirror_mode": {
    "name": "ipython",
    "version": 3
   },
   "file_extension": ".py",
   "mimetype": "text/x-python",
   "name": "python",
   "nbconvert_exporter": "python",
   "pygments_lexer": "ipython3",
   "version": "3.7.6"
  }
 },
 "nbformat": 4,
 "nbformat_minor": 5
}
